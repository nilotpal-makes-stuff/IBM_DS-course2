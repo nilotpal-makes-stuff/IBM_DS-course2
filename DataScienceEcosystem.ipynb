{
 "cells": [
  {
   "cell_type": "markdown",
   "id": "48d4dd5e-67dd-4c3a-8a91-500e4d3f6c17",
   "metadata": {},
   "source": [
    "# Data Science Tools and Ecosystem"
   ]
  },
  {
   "cell_type": "markdown",
   "id": "0d9503fb-1f05-48ad-b4e5-c9661cd180eb",
   "metadata": {},
   "source": [
    "In this notebook, Data Science Tools and Ecosystem are summarized."
   ]
  },
  {
   "cell_type": "markdown",
   "id": "2789a564-deb2-4045-a5ae-a00cc811b976",
   "metadata": {},
   "source": [
    "__Objectives:__\n",
    "* List popular languages used by Data Scientists\n",
    "* List commonly used libraries by Data Scientists\n",
    "* Tabulate Data Science Tools\n",
    "* Evaluate Arithmetic Expressions in Python"
   ]
  },
  {
   "cell_type": "markdown",
   "id": "aee56fd0-ebda-47e7-b369-74e3fe48866f",
   "metadata": {},
   "source": [
    "Some of the popular languages that Data Scientists use are:\n",
    "1. SQL\n",
    "2. Python\n",
    "3. R\n",
    "4. Scala\n",
    "5. C++"
   ]
  },
  {
   "cell_type": "markdown",
   "id": "a086d39f-b3f6-4aa2-8577-8a632af8cbc8",
   "metadata": {},
   "source": [
    "Some of the commonly used libraries used by Data Scientists include:\n",
    "1. pandas (python)\n",
    "2. numpy (python)\n",
    "3. matplotlib (python)\n",
    "4. scipy (python)\n",
    "5. ggplot (R)\n",
    "6. GGally (R)\n",
    "7. datasets (R)"
   ]
  },
  {
   "cell_type": "markdown",
   "id": "98f56a25-c1b5-48e5-8ef8-ebe36a8db7fc",
   "metadata": {},
   "source": [
    "|Data Science Tools|\n",
    "|------------------|\n",
    "|MySQL|\n",
    "|PostgreSQL|\n",
    "|MongoDB|\n",
    "|Apache Kafka|\n",
    "|Git|\n",
    "|Github|\n",
    "|JupyterNotebooks|\n",
    "|RStudio|"
   ]
  },
  {
   "cell_type": "markdown",
   "id": "c3eded21-52d3-4f91-a3b2-dcb5a795492b",
   "metadata": {},
   "source": [
    "### Below are a few examples of evaluating arithmetic expressions in Python."
   ]
  },
  {
   "cell_type": "code",
   "execution_count": 2,
   "id": "db954134-8407-41de-89bc-bcd12a564786",
   "metadata": {},
   "outputs": [
    {
     "data": {
      "text/plain": [
       "17"
      ]
     },
     "execution_count": 2,
     "metadata": {},
     "output_type": "execute_result"
    }
   ],
   "source": [
    "# This a simple arithmetic expression to mutiply then add integers\n",
    "(3*4)+5"
   ]
  },
  {
   "cell_type": "code",
   "execution_count": 3,
   "id": "e2ee6ef8-78f9-442b-8f7e-1e3b91d5b985",
   "metadata": {},
   "outputs": [
    {
     "data": {
      "text/plain": [
       "3.3333333333333335"
      ]
     },
     "execution_count": 3,
     "metadata": {},
     "output_type": "execute_result"
    }
   ],
   "source": [
    "# This will convert 200 minutes to hours by diving by 60.\n",
    "200/60"
   ]
  },
  {
   "cell_type": "markdown",
   "id": "33609873-d038-4ce1-b2d3-70fac5a681c3",
   "metadata": {},
   "source": [
    "## Author\n",
    "Nilotpal Lodh"
   ]
  },
  {
   "cell_type": "code",
   "execution_count": null,
   "id": "611ad6d5-3a4d-4ae2-b51a-7137b5f269a4",
   "metadata": {},
   "outputs": [],
   "source": []
  }
 ],
 "metadata": {
  "kernelspec": {
   "display_name": "Python 3 (ipykernel)",
   "language": "python",
   "name": "python3"
  },
  "language_info": {
   "codemirror_mode": {
    "name": "ipython",
    "version": 3
   },
   "file_extension": ".py",
   "mimetype": "text/x-python",
   "name": "python",
   "nbconvert_exporter": "python",
   "pygments_lexer": "ipython3",
   "version": "3.12.8"
  }
 },
 "nbformat": 4,
 "nbformat_minor": 5
}
